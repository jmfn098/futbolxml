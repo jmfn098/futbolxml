{
 "cells": [
  {
   "cell_type": "code",
   "execution_count": 3,
   "metadata": {},
   "outputs": [],
   "source": [
    "import requests\n",
    "import numpy as np\n",
    "from lxml import etree\n",
    "from datetime import  date,datetime, timedelta\n",
    "import xml.etree.ElementTree as ET\n",
    "from operator import itemgetter"
   ]
  },
  {
   "cell_type": "code",
   "execution_count": 58,
   "metadata": {},
   "outputs": [
    {
     "name": "stdout",
     "output_type": "stream",
     "text": [
      "Seleccionar torneo:\n",
      "0- Champions\n",
      "1- Copa America\n",
      "2- Copa Paraguay\n",
      "3- Eliminatorias\n",
      "4- España\n",
      "5- Italia\n",
      "6- Libertadores\n",
      "7- Paraguay\n",
      "8- Premier League\n",
      "9- Recopa\n",
      "10- Sudamericana\n",
      "8\n"
     ]
    }
   ],
   "source": [
    "torneos = [\"Champions\",\"Copa America\", \"Copa Paraguay\", \"Eliminatorias\",\"España\",\"Italia\",\"Libertadores\",\"Paraguay\",\"Premier League\",\"Recopa\",\"Sudamericana\"]\n",
    "torneovec =[\"champions\",\"copaamerica\", \"copaparaguay\", \"eliminatorias\",\"espana\",\"italia\",\"libertadores\",\"paraguay\",\"premierleague\",\"recopa\",\"sudamericana\"]\n",
    "estadisticas = [\"posiciones\",\"fixture\",\"jugadores.estadisticas\"]\n",
    "estadistica_top = {\n",
    "    \"Goleadores\" : \"Goals\",\n",
    "    \"Asistencias\": \"GoalAssistances\",\n",
    "    \"Recuperacion\" : \"Stealing\",\n",
    "    \"Faltas Cometidas\" : 'Fouls',\n",
    "    \"Faltas Recibidas\" : 'FoulsOpponents',\n",
    "    \"Tarjetas Amarillas\" : 'YellowCards',\n",
    "    \"Tarjetas Rojas\" : 'RedCards'\n",
    "}\n",
    "x='-1111'\n",
    "while int(x) < 0  or int(x) > 10:\n",
    "    print(\"Seleccionar torneo:\")\n",
    "    for i in range(len(torneos)):\n",
    "        print(str(i) + \"- \" + torneos[i])\n",
    "    x = input()\n",
    "torneo = torneovec[int(x)]"
   ]
  },
  {
   "cell_type": "code",
   "execution_count": 92,
   "metadata": {},
   "outputs": [],
   "source": [
    "#funciones\n",
    "estadisticas_dict = {}\n",
    "def traer_datos(torneo,estadistica):\n",
    "    url = f'https://editorialdenegocios.com/datafactory/xml/es/{torneo}/deportes.futbol.{torneo}.{estadistica}.xml'\n",
    "    print(url)\n",
    "    web = requests.get(url)\n",
    "    root = ET.fromstring(web.text)\n",
    "    return root\n",
    "def posiciones():\n",
    "    posiciones = np.array([[0,-1,0,0,0,0,0,0,0]],dtype=object)\n",
    "    if torneo != 'sudamericana':\n",
    "        root = traer_datos(torneo,estadisticas[0])\n",
    "        if torneo == 'champions' or torneo == 'libertadores':#ordenar tabla solo para champions y libertadores\n",
    "            root[:] = sorted(root, key=lambda child: (child.tag,child.get('zona')))\n",
    "            for c in root:\n",
    "                c[:] = sorted(c, key=lambda child: (child.tag,child.get('puntos')))\n",
    "            \n",
    "        f.write('Tabla de posiciones ; PJ ; G ; E ; P ; GF ; GC ; DF ; Pts;\\n')\n",
    "        contador=0\n",
    "        for i in root.findall('equipo'):\n",
    "            if contador % 4 == 0 and (torneo == 'champions' or torneo == 'libertadores' or torneo == 'sudamericana'):\n",
    "                f.write(i.get(\"zona\") + \"\\n\")\n",
    "            text = [i.find('nombre').text, i.find('jugados').text, i.find('ganados').text, i.find('empatados').text, i.find('perdidos').text,i.find('golesfavor').text, i.find('golescontra').text, i.find('difgol').text, i.find('puntos').text]\n",
    "            posiciones = np.vstack([posiciones,np.asarray(text,object)]) \n",
    "            contador = contador + 1\n",
    "              \n",
    "    estadisticas_dict.update({\"Posiciones\":posiciones[1:]})\n",
    "def fixture():\n",
    "    fecha_pasada = np.array([[0,-1,0,0]],dtype=object)\n",
    "    fecha_actual_jugada = np.array([[0,-1,0,0,0]],dtype=object)\n",
    "    fecha_actual = np.array([[0,-1,0,0,0]],dtype=object)\n",
    "    root = traer_datos(torneo,estadisticas[1])\n",
    "    for i in root.findall(\"fecha\"):\n",
    "        if(i.get('estado')=='ultima'):\n",
    "            for j in i:\n",
    "                if(j.find('local')!= None):\n",
    "                    text = [j.find(\"local\").text,j.find(\"goleslocal\").text,j.find(\"golesvisitante\").text,j.find(\"visitante\").text]\n",
    "                    fecha_pasada = np.vstack([fecha_pasada,np.asarray(text,object)]) \n",
    "        if(i.get('estado')=='actual'):\n",
    "            for j in i:\n",
    "                if(j.find('local')!= None):\n",
    "                    if (j.find('estado').attrib['id'] == '2'):\n",
    "                        text = [j.find(\"local\").text,j.find(\"goleslocal\").text,j.find(\"golesvisitante\").text,j.find(\"visitante\").text,j.get(\"tipo\")]\n",
    "                        fecha_actual_jugada = np.vstack([fecha_actual_jugada,np.asarray(text,object)]) \n",
    "                    else:\n",
    "                        text = [j.find(\"local\").text, j.find(\"visitante\").text, j.get(\"tipo\"),f'{j.get(\"fecha\")[6:8]}/{j.get(\"fecha\")[4:6]}/{j.get(\"fecha\")[0:4]}',j.get(\"hora\")]\n",
    "                        fecha_actual = np.vstack([fecha_actual,np.asarray(text,object)]) \n",
    "    estadisticas_dict.update({\"Fecha Pasada\": fecha_pasada[1:]})\n",
    "    estadisticas_dict.update({\"Fecha Actual Jugadas\": fecha_actual_jugada[1:]})\n",
    "    estadisticas_dict.update({\"Fecha Actual a Jugar\": fecha_actual[1:]})\n",
    "def cargar_vector_top(estadistica):\n",
    "    if estadistica != \"Pases\":\n",
    "        vector_top = np.array([0,-1,0],dtype=object)\n",
    "    else:\n",
    "        vector_top = np.array([0,-1,0,0, 0],dtype=object)\n",
    "    for i in root.findall('Tournament/Players/Player'):\n",
    "        if estadistica != \"Pases\":\n",
    "            text = [i.attrib['name'] + \" \" + i.attrib['lastName'], int(i.find(estadistica_top[estadistica]).attrib['total']) , i.attrib['currentTeam']]\n",
    "        else:\n",
    "            text = [i.attrib['name'] + \" \" + i.attrib['lastName'], int(i.find('Passes').attrib['successful']) , int(i.find('Passes').attrib['total']), float(i.find('Passes').attrib['effectiveness'])  , i.attrib['currentTeam']]\n",
    "        vector_top = np.vstack([vector_top,np.asarray(text,object)]) \n",
    "    f.write(f'\\n {estadistica} \\n')\n",
    "    if estadistica != 'Pases':\n",
    "        vector_top = sorted(vector_top, key=lambda a_entry: a_entry[1], reverse=True)\n",
    "    else: \n",
    "        vector_top = sorted(vector_top, key=lambda a_entry: a_entry[2], reverse=True)\n",
    "        pases10 = np.array([0,-1,0,0, 0],dtype=object)\n",
    "        for i in range(11):\n",
    "            pases10 = np.vstack([pases10,vector_top[i]])  \n",
    "            pases10[i][3] = int(pases10[i][3])\n",
    "    \n",
    "        pases10 = sorted(pases10, key=lambda a_entry: a_entry[3], reverse=True)\n",
    "        vector_top = pases10\n",
    "\n",
    "    \n",
    "    estadisticas_dict.update({estadistica: vector_top[0:10]})   "
   ]
  },
  {
   "cell_type": "code",
   "execution_count": null,
   "metadata": {},
   "outputs": [],
   "source": []
  },
  {
   "cell_type": "code",
   "execution_count": null,
   "metadata": {},
   "outputs": [
    {
     "name": "stdout",
     "output_type": "stream",
     "text": [
      "https://editorialdenegocios.com/datafactory/xml/es/premierleague/deportes.futbol.premierleague.posiciones.xml\n"
     ]
    }
   ],
   "source": [
    "titulocsv = f'datos{torneo}.csv'\n",
    "f = open(titulocsv,'w')\n",
    "posiciones()\n",
    "fixture()\n",
    "root = traer_datos(torneo,estadisticas[2])\n",
    "cargar_vector_top(\"Goleadores\")\n",
    "cargar_vector_top(\"Asistencias\")\n",
    "cargar_vector_top(\"Pases\")\n",
    "cargar_vector_top(\"Recuperacion\")\n",
    "cargar_vector_top(\"Faltas Cometidas\")\n",
    "cargar_vector_top(\"Faltas Recibidas\")\n",
    "cargar_vector_top(\"Tarjetas Amarillas\")\n",
    "cargar_vector_top(\"Tarjetas Rojas\")\n",
    "f.close()"
   ]
  },
  {
   "cell_type": "code",
   "execution_count": 95,
   "metadata": {},
   "outputs": [
    {
     "data": {
      "text/plain": [
       "array([['Tottenham', '12', '7', '4', '1', '24', '10', '14', '25'],\n",
       "       ['Liverpool', '12', '7', '4', '1', '27', '18', '9', '25'],\n",
       "       ['Southampton', '13', '7', '3', '3', '25', '18', '7', '24'],\n",
       "       ['Leicester City', '13', '8', '0', '5', '24', '17', '7', '24'],\n",
       "       ['Everton', '13', '7', '2', '4', '23', '18', '5', '23'],\n",
       "       ['Chelsea', '13', '6', '4', '3', '26', '14', '12', '22'],\n",
       "       ['Manchester City', '12', '5', '5', '2', '18', '12', '6', '20'],\n",
       "       ['West Ham United', '12', '6', '2', '4', '20', '15', '5', '20'],\n",
       "       ['Manchester United', '11', '6', '2', '3', '19', '17', '2', '20'],\n",
       "       ['Wolverhampton', '13', '6', '2', '5', '13', '17', '-4', '20'],\n",
       "       ['Aston Villa', '10', '6', '0', '4', '21', '13', '8', '18'],\n",
       "       ['Crystal Palace', '12', '5', '2', '5', '18', '17', '1', '17'],\n",
       "       ['Leeds United', '13', '5', '2', '6', '22', '24', '-2', '17'],\n",
       "       ['Newcastle United', '12', '5', '2', '5', '16', '21', '-5', '17'],\n",
       "       ['Arsenal', '13', '4', '2', '7', '11', '16', '-5', '14'],\n",
       "       ['Brighton and Hove', '12', '2', '4', '6', '15', '21', '-6', '10'],\n",
       "       ['Burnley', '11', '2', '3', '6', '6', '18', '-12', '9'],\n",
       "       ['Fulham', '12', '2', '2', '8', '12', '22', '-10', '8'],\n",
       "       ['West Bromwich', '13', '1', '4', '8', '10', '26', '-16', '7'],\n",
       "       ['Sheffield United', '12', '0', '1', '11', '5', '21', '-16', '1']],\n",
       "      dtype=object)"
      ]
     },
     "execution_count": 95,
     "metadata": {},
     "output_type": "execute_result"
    }
   ],
   "source": [
    "estadisticas_dict[\"Posiciones\"]"
   ]
  },
  {
   "cell_type": "code",
   "execution_count": null,
   "metadata": {},
   "outputs": [],
   "source": []
  }
 ],
 "metadata": {
  "kernelspec": {
   "display_name": "Python 3",
   "language": "python",
   "name": "python3"
  },
  "language_info": {
   "codemirror_mode": {
    "name": "ipython",
    "version": 3
   },
   "file_extension": ".py",
   "mimetype": "text/x-python",
   "name": "python",
   "nbconvert_exporter": "python",
   "pygments_lexer": "ipython3",
   "version": "3.8.3"
  }
 },
 "nbformat": 4,
 "nbformat_minor": 4
}
