{
 "cells": [
  {
   "cell_type": "code",
   "execution_count": 1,
   "metadata": {},
   "outputs": [],
   "source": [
    "import requests\n",
    "import numpy as np\n",
    "from lxml import etree\n",
    "from datetime import  date,datetime, timedelta\n",
    "import xml.etree.ElementTree as ET\n",
    "from operator import itemgetter"
   ]
  },
  {
   "cell_type": "code",
   "execution_count": 2,
   "metadata": {},
   "outputs": [
    {
     "name": "stdout",
     "output_type": "stream",
     "text": [
      "Seleccionar torneo:\n",
      "0- Champions\n",
      "1- Copa America\n",
      "2- Copa Paraguay\n",
      "3- Eliminatorias\n",
      "4- España\n",
      "5- Italia\n",
      "6- Libertadores\n",
      "7- Paraguay\n",
      "8- Premier League\n",
      "9- Recopa\n",
      "10- Sudamericana\n",
      "8\n"
     ]
    }
   ],
   "source": [
    "torneos = [\"Champions\",\"Copa America\", \"Copa Paraguay\", \"Eliminatorias\",\"España\",\"Italia\",\"Libertadores\",\"Paraguay\",\"Premier League\",\"Recopa\",\"Sudamericana\"]\n",
    "torneovec =[\"champions\",\"copaamerica\", \"copaparaguay\", \"eliminatorias\",\"espana\",\"italia\",\"libertadores\",\"paraguay\",\"premierleague\",\"recopa\",\"sudamericana\"]\n",
    "estadisticas = [\"posiciones\",\"fixture\",\"jugadores.estadisticas\"]\n",
    "estadistica_top = {\n",
    "    \"Goleadores\" : \"Goals\",\n",
    "    \"Asistencias\": \"GoalAssistances\",\n",
    "    \"Recuperacion\" : \"Stealing\",\n",
    "    \"Faltas Cometidas\" : 'Fouls',\n",
    "    \"Faltas Recibidas\" : 'FoulsOpponents',\n",
    "    \"Tarjetas Amarillas\" : 'YellowCards',\n",
    "    \"Tarjetas Rojas\" : 'RedCards'\n",
    "}\n",
    "x='-1111'\n",
    "while int(x) < 0  or int(x) > 10:\n",
    "    print(\"Seleccionar torneo:\")\n",
    "    for i in range(len(torneos)):\n",
    "        print(str(i) + \"- \" + torneos[i])\n",
    "    x = input()\n",
    "torneo = torneovec[int(x)]"
   ]
  },
  {
   "cell_type": "code",
   "execution_count": 3,
   "metadata": {},
   "outputs": [],
   "source": [
    "#funciones\n",
    "def traer_datos(torneo,estadistica):\n",
    "    url = f'https://editorialdenegocios.com/datafactory/xml/es/{torneo}/deportes.futbol.{torneo}.{estadistica}.xml'\n",
    "    print(url)\n",
    "    web = requests.get(url)\n",
    "    root = ET.fromstring(web.text)\n",
    "    return root\n",
    "def posiciones():\n",
    "    if torneo != 'sudamericana' and torneo != 'libertadores':\n",
    "        root = traer_datos(torneo,estadisticas[0])\n",
    "        if torneo == 'champions' :#ordenar tabla solo para champions y libertadores\n",
    "            root[:] = sorted(root, key=lambda child: (child.tag,child.get('zona')))\n",
    "            for c in root:\n",
    "                c[:] = sorted(c, key=lambda child: (child.tag,child.get('puntos')))\n",
    "        \n",
    "        f.write('Tabla de posiciones ; PJ ; G ; E ; P ; GF ; GC ; DF ; Pts;\\n')\n",
    "        contador=0\n",
    "        for i in root.findall('equipo'):\n",
    "            if contador % 4 == 0 and (torneo == 'champions' or torneo == 'libertadores' or torneo == 'sudamericana'):\n",
    "                f.write(i.get(\"zona\") + \"\\n\")\n",
    "    \n",
    "            f.write(i.find('nombre').text + ';' + i.find('jugados').text + ';' + i.find('ganados').text + ';' + i.find('empatados').text + ';' + i.find('perdidos').text +  ';' + i.find('golesfavor').text + ';' + i.find('golescontra').text + ';' + i.find('difgol').text + ';' + i.find('puntos').text +'\\n')\n",
    "            contador = contador + 1\n",
    "def fixture():\n",
    "    root = traer_datos(torneo,estadisticas[1])\n",
    "    for i in root.findall(\"fecha\"):\n",
    "        if(i.get('estado')=='ultima'):\n",
    "            f.write(i.get('nombrenivel')+\";-;\"+i.get('nombre')+\"\\n\")\n",
    "            for j in i:\n",
    "                if(j.find('local')!= None):\n",
    "                    if j.find('estado').text == 'Postergado':\n",
    "                        f.write(f'{j.find(\"local\").text};;{j.find(\"estado\").text};;{j.find(\"visitante\").text};{j.get(\"tipo\")}\\n')\n",
    "                    else:\n",
    "                        f.write(f'{j.find(\"local\").text};{j.find(\"goleslocal\").text}; - ;{j.find(\"golesvisitante\").text} ;{j.find(\"visitante\").text};{j.get(\"tipo\")}\\n') \n",
    "        if(i.get('estado')=='actual'):\n",
    "            f.write(i.get('nombrenivel')+\";-;\"+i.get('nombre')+\"\\n\")  \n",
    "            for j in i:\n",
    "                if(j.find('local')!= None):\n",
    "                    if (j.find('estado').attrib['id'] == '2'):\n",
    "                        f.write(f'{j.find(\"local\").text};{j.find(\"goleslocal\").text}; - ;{j.find(\"golesvisitante\").text} ;{j.find(\"visitante\").text} - {j.get(\"tipo\")}; - ;fecha:{j.get(\"fecha\")[6:8]}/{j.get(\"fecha\")[4:6]}/{j.get(\"fecha\")[0:4]}; hora:{j.get(\"hora\")}\\n')\n",
    "                    else:\n",
    "                        f.write(f'{j.find(\"local\").text};; vs ;;{j.find(\"visitante\").text} - {j.get(\"tipo\")}; - ;fecha:{j.get(\"fecha\")[6:8]}/{j.get(\"fecha\")[4:6]}/{j.get(\"fecha\")[0:4]}; hora:{j.get(\"hora\")}\\n')\n",
    "       \n",
    "        if(i.get('estado')=='proxima'):\n",
    "            f.write(i.get('nombrenivel')+\";-;\"+i.get('nombre')+\"\\n\")  \n",
    "            for j in i:\n",
    "                if(j.find('local')!= None):\n",
    "                    if (j.find('estado').attrib['id'] == '2'):\n",
    "                        f.write(f'{j.find(\"local\").text};{j.find(\"goleslocal\").text}; - ;{j.find(\"golesvisitante\").text} ;{j.find(\"visitante\").text} - {j.get(\"tipo\")}; - ;fecha:{j.get(\"fecha\")[6:8]}/{j.get(\"fecha\")[4:6]}/{j.get(\"fecha\")[0:4]}; hora:{j.get(\"hora\")}\\n')\n",
    "                    else:\n",
    "                        f.write(f'{j.find(\"local\").text};; vs ;;{j.find(\"visitante\").text} - {j.get(\"tipo\")}; - ;fecha:{j.get(\"fecha\")[6:8]}/{j.get(\"fecha\")[4:6]}/{j.get(\"fecha\")[0:4]}; hora:{j.get(\"hora\")}\\n')\n",
    "       \n",
    "\n",
    "\n",
    "def cargar_vector_top(estadistica):\n",
    "    if estadistica != \"Pases\":\n",
    "        vector_top = np.array([0,-1,0],dtype=object)\n",
    "    else:\n",
    "        vector_top = np.array([0,-1,0,0, 0],dtype=object)\n",
    "    for i in root.findall('Tournament/Players/Player'):\n",
    "        if estadistica != \"Pases\":\n",
    "            text = [i.attrib['name'] + \" \" + i.attrib['lastName'], int(i.find(estadistica_top[estadistica]).attrib['total']) , i.attrib['currentTeam']]\n",
    "        else:\n",
    "            text = [i.attrib['name'] + \" \" + i.attrib['lastName'], int(i.find('Passes').attrib['successful']) , int(i.find('Passes').attrib['total']), float(i.find('Passes').attrib['effectiveness'])  , i.attrib['currentTeam']]\n",
    "        vector_top = np.vstack([vector_top,np.asarray(text,object)]) \n",
    "    f.write(f'\\n {estadistica} \\n')\n",
    "    if estadistica != 'Pases':\n",
    "        vector_top = sorted(vector_top, key=lambda a_entry: a_entry[1], reverse=True)\n",
    "    else: \n",
    "        vector_top = sorted(vector_top, key=lambda a_entry: a_entry[2], reverse=True)\n",
    "        pases10 = np.array([0,-1,0,0, 0],dtype=object)\n",
    "        for i in range(11):\n",
    "            pases10 = np.vstack([pases10,vector_top[i]])  \n",
    "            pases10[i][3] = int(pases10[i][3])\n",
    "    \n",
    "        pases10 = sorted(pases10, key=lambda a_entry: a_entry[3], reverse=True)\n",
    "        vector_top = pases10\n",
    "\n",
    "        \n",
    "    for i in range(10):\n",
    "        a=vector_top[i]\n",
    "        if estadistica != \"Pases\":\n",
    "            f.write(a[0]+ \";\" +str(a[1]) + \";\" + a[2] +\"\\n\")\n",
    "        else:\n",
    "            f.write(a[0]+ \";\" +str(a[1]) + \";\" + str(a[2]) + \";\" + str(a[3]) + \";\" + a[4] +\"\\n\")\n",
    "       "
   ]
  },
  {
   "cell_type": "code",
   "execution_count": 4,
   "metadata": {},
   "outputs": [
    {
     "name": "stdout",
     "output_type": "stream",
     "text": [
      "https://editorialdenegocios.com/datafactory/xml/es/premierleague/deportes.futbol.premierleague.posiciones.xml\n",
      "https://editorialdenegocios.com/datafactory/xml/es/premierleague/deportes.futbol.premierleague.fixture.xml\n",
      "https://editorialdenegocios.com/datafactory/xml/es/premierleague/deportes.futbol.premierleague.jugadores.estadisticas.xml\n"
     ]
    }
   ],
   "source": [
    "titulocsv = f'datos{torneo}.csv'\n",
    "f = open(titulocsv,'w')\n",
    "posiciones()\n",
    "fixture()\n",
    "root = traer_datos(torneo,estadisticas[2])\n",
    "cargar_vector_top(\"Goleadores\")\n",
    "cargar_vector_top(\"Asistencias\")\n",
    "cargar_vector_top(\"Pases\")\n",
    "cargar_vector_top(\"Recuperacion\")\n",
    "cargar_vector_top(\"Faltas Cometidas\")\n",
    "cargar_vector_top(\"Faltas Recibidas\")\n",
    "cargar_vector_top(\"Tarjetas Amarillas\")\n",
    "cargar_vector_top(\"Tarjetas Rojas\")\n",
    "f.close()"
   ]
  },
  {
   "cell_type": "code",
   "execution_count": 5,
   "metadata": {},
   "outputs": [
    {
     "ename": "NameError",
     "evalue": "name 'estadisticas_dict' is not defined",
     "output_type": "error",
     "traceback": [
      "\u001b[0;31m---------------------------------------------------------------------------\u001b[0m",
      "\u001b[0;31mNameError\u001b[0m                                 Traceback (most recent call last)",
      "\u001b[0;32m<ipython-input-5-451df597c56c>\u001b[0m in \u001b[0;36m<module>\u001b[0;34m\u001b[0m\n\u001b[0;32m----> 1\u001b[0;31m \u001b[0mestadisticas_dict\u001b[0m\u001b[0;34m\u001b[0m\u001b[0;34m\u001b[0m\u001b[0m\n\u001b[0m",
      "\u001b[0;31mNameError\u001b[0m: name 'estadisticas_dict' is not defined"
     ]
    }
   ],
   "source": [
    "estadisticas_dict"
   ]
  },
  {
   "cell_type": "code",
   "execution_count": 5,
   "metadata": {},
   "outputs": [
    {
     "name": "stdout",
     "output_type": "stream",
     "text": [
      "Asociación Nacional RepublicanaTribunal Electoral Partidario\n",
      "Area de SistemasElección Interna Partidaria del \n",
      "20/06/2021 - Municipa\n",
      "les del 10/10/2021\n",
      "Asunción, 5 de marzo de 2021Anexo de la Resolución N° 183 / 2021 Mov.:\n",
      "FRENTE UNIVERSITARIO DE ALTO PARANA\n",
      "MFUDAPSiglas:Depto.:10ALTO PARANA\n",
      "Distrito:0CIUDAD DEL ESTE\n",
      " Cargo:CONCEJAL SUPLENTE\n",
      "3OrdenC.I. NºNombre y Apellido\n",
      "13.371.132MARIA MAGDALENA RIVEROS LEON\n",
      "25.240.438CRISTIAN LUIS FARIÑA MARTINEZ\n",
      "34.154.431MARIA VILMA VILLAGRA RODAS\n",
      "42.442.763FREDDY ENRIQUE ZARACHO DUARTE\n",
      "54.379.520MOISES ZACARIAS MARIN ACOSTA\n",
      "6724.881ALCIDES GUSTAVO CHILAVERT GONZALEZ\n",
      "74.728.086SUSANA ELIZABETH MENDOZA BELLOSO\n",
      "83.336.137RUBEN GARCIA AGUILAR\n",
      "93.661.207BLAS ARIEL FRANCO LEZCANO\n",
      "105.040.135KARINA CONCEPCION LOPEZ VAZQUEZ\n",
      "115.140.311\n",
      "JULIA YANINA ORTIZ GONZALEZ\n",
      "124.164.134EDGAR MIGUEL RODRIGUEZ VAZQUEZ\n",
      "\n"
     ]
    }
   ],
   "source": [
    "print('Asociación Nacional RepublicanaTribunal Electoral Partidario\\nArea de SistemasElección Interna Partidaria del \\n20/06/2021 - Municipa\\nles del 10/10/2021\\nAsunción, 5 de marzo de 2021Anexo de la Resolución N° 183 / 2021 Mov.:\\nFRENTE UNIVERSITARIO DE ALTO PARANA\\nMFUDAPSiglas:Depto.:10ALTO PARANA\\nDistrito:0CIUDAD DEL ESTE\\n Cargo:CONCEJAL SUPLENTE\\n3OrdenC.I. NºNombre y Apellido\\n13.371.132MARIA MAGDALENA RIVEROS LEON\\n25.240.438CRISTIAN LUIS FARIÑA MARTINEZ\\n34.154.431MARIA VILMA VILLAGRA RODAS\\n42.442.763FREDDY ENRIQUE ZARACHO DUARTE\\n54.379.520MOISES ZACARIAS MARIN ACOSTA\\n6724.881ALCIDES GUSTAVO CHILAVERT GONZALEZ\\n74.728.086SUSANA ELIZABETH MENDOZA BELLOSO\\n83.336.137RUBEN GARCIA AGUILAR\\n93.661.207BLAS ARIEL FRANCO LEZCANO\\n105.040.135KARINA CONCEPCION LOPEZ VAZQUEZ\\n115.140.311\\nJULIA YANINA ORTIZ GONZALEZ\\n124.164.134EDGAR MIGUEL RODRIGUEZ VAZQUEZ\\n')"
   ]
  },
  {
   "cell_type": "code",
   "execution_count": 6,
   "metadata": {},
   "outputs": [],
   "source": [
    "import re"
   ]
  },
  {
   "cell_type": "code",
   "execution_count": 42,
   "metadata": {},
   "outputs": [],
   "source": [
    "text='13.371.132MARIA MAGDALENA RIVEROS LEON\\n25.240.438CRISTIAN LUIS FARIÑA MARTINEZ\\n34.154.431MARIA VILMA VILLAGRA RODAS\\n42.442.763FREDDY ENRIQUE ZARACHO DUARTE\\n54.379.520MOISES ZACARIAS MARIN ACOSTA\\n6724.881ALCIDES GUSTAVO CHILAVERT GONZALEZ\\n74.728.086SUSANA ELIZABETH MENDOZA BELLOSO\\n83.336.137RUBEN GARCIA AGUILAR\\n93.661.207BLAS ARIEL FRANCO LEZCANO\\n105.040.135KARINA CONCEPCION LOPEZ VAZQUEZ\\n115.140.311\\nJULIA YANINA ORTIZ GONZALEZ\\n124.164.134EDGAR MIGUEL RODRIGUEZ VAZQUEZ\\n'"
   ]
  },
  {
   "cell_type": "code",
   "execution_count": 64,
   "metadata": {},
   "outputs": [],
   "source": []
  },
  {
   "cell_type": "code",
   "execution_count": 94,
   "metadata": {
    "scrolled": true
   },
   "outputs": [],
   "source": [
    "import re\n",
    "text='13.371.132MARIA MAGDALENA RIVEROS LEON\\n25.240.438CRISTIAN LUIS FARIÑA MARTINEZ\\n34.154.431MARIA VILMA VILLAGRA RODAS\\n42.442.763FREDDY ENRIQUE ZARACHO DUARTE\\n54.379.520MOISES ZACARIAS MARIN ACOSTA\\n6724.881ALCIDES GUSTAVO CHILAVERT GONZALEZ\\n74.728.086SUSANA ELIZABETH MENDOZA BELLOSO\\n83.336.137RUBEN GARCIA AGUILAR\\n93.661.207BLAS ARIEL FRANCO LEZCANO\\n105.040.135KARINA CONCEPCION LOPEZ VAZQUEZ\\n115.140.311\\nJULIA YANINA ORTIZ GONZALEZ\\n124.164.134EDGAR MIGUEL RODRIGUEZ VAZQUEZ\\n'\n",
    "filtro_nombre=re.split('[\\d]',text)\n",
    "filtro_cedula=re.split('[^\\d.]',text)\n",
    "nombres=[]\n",
    "cedula=[]\n",
    "for (index,item) in enumerate(filtro_nombre):\n",
    "    item=item.replace('\\n','')\n",
    "    if(item!='' and item!='.'):\n",
    "        nombres.append(item)\n",
    "for (index,item) in enumerate(filtro_cedula):\n",
    "    item=item.replace('\\n','')\n",
    "    if(item!='' and item!='.'):\n",
    "        cedula.append(item)\n"
   ]
  },
  {
   "cell_type": "code",
   "execution_count": 92,
   "metadata": {
    "scrolled": true
   },
   "outputs": [
    {
     "data": {
      "text/plain": [
       "['MARIA MAGDALENA RIVEROS LEON',\n",
       " 'CRISTIAN LUIS FARIÑA MARTINEZ',\n",
       " 'MARIA VILMA VILLAGRA RODAS',\n",
       " 'FREDDY ENRIQUE ZARACHO DUARTE',\n",
       " 'MOISES ZACARIAS MARIN ACOSTA',\n",
       " 'ALCIDES GUSTAVO CHILAVERT GONZALEZ',\n",
       " 'SUSANA ELIZABETH MENDOZA BELLOSO',\n",
       " 'RUBEN GARCIA AGUILAR',\n",
       " 'BLAS ARIEL FRANCO LEZCANO',\n",
       " 'KARINA CONCEPCION LOPEZ VAZQUEZ',\n",
       " 'JULIA YANINA ORTIZ GONZALEZ',\n",
       " 'EDGAR MIGUEL RODRIGUEZ VAZQUEZ']"
      ]
     },
     "execution_count": 92,
     "metadata": {},
     "output_type": "execute_result"
    }
   ],
   "source": [
    "nombres"
   ]
  },
  {
   "cell_type": "code",
   "execution_count": 93,
   "metadata": {},
   "outputs": [
    {
     "data": {
      "text/plain": [
       "['13.371.132',\n",
       " '25.240.438',\n",
       " '34.154.431',\n",
       " '42.442.763',\n",
       " '54.379.520',\n",
       " '6724.881',\n",
       " '74.728.086',\n",
       " '83.336.137',\n",
       " '93.661.207',\n",
       " '105.040.135',\n",
       " '115.140.311',\n",
       " '124.164.134']"
      ]
     },
     "execution_count": 93,
     "metadata": {},
     "output_type": "execute_result"
    }
   ],
   "source": [
    "cedula"
   ]
  },
  {
   "cell_type": "code",
   "execution_count": null,
   "metadata": {},
   "outputs": [],
   "source": []
  },
  {
   "cell_type": "code",
   "execution_count": null,
   "metadata": {},
   "outputs": [],
   "source": []
  }
 ],
 "metadata": {
  "kernelspec": {
   "display_name": "Python 3",
   "language": "python",
   "name": "python3"
  },
  "language_info": {
   "codemirror_mode": {
    "name": "ipython",
    "version": 3
   },
   "file_extension": ".py",
   "mimetype": "text/x-python",
   "name": "python",
   "nbconvert_exporter": "python",
   "pygments_lexer": "ipython3",
   "version": "3.8.6"
  }
 },
 "nbformat": 4,
 "nbformat_minor": 4
}
