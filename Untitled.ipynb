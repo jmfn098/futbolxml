{
 "cells": [
  {
   "cell_type": "code",
   "execution_count": 1,
   "metadata": {},
   "outputs": [],
   "source": [
    "import requests\n",
    "import numpy as np\n",
    "from datetime import  date, timedelta\n",
    "import xml.etree.ElementTree as ET\n",
    "from operator import itemgetter"
   ]
  },
  {
   "cell_type": "code",
   "execution_count": 2,
   "metadata": {},
   "outputs": [
    {
     "name": "stdout",
     "output_type": "stream",
     "text": [
      "Seleccionar torneo:\n",
      "0- Champions\n",
      "1- Copa America\n",
      "2- Copa Paraguay\n",
      "3- Eliminatorias\n",
      "4- España\n",
      "5- Italia\n",
      "6- Libertadores\n",
      "7- Paraguay\n",
      "8- Premier League\n",
      "9- Recopa\n",
      "10- Sudamericana\n",
      "10\n"
     ]
    }
   ],
   "source": [
    "torneos = [\"Champions\",\"Copa America\", \"Copa Paraguay\", \"Eliminatorias\",\"España\",\"Italia\",\"Libertadores\",\"Paraguay\",\"Premier League\",\"Recopa\",\"Sudamericana\"]\n",
    "torneovec =[\"champions\",\"copaamerica\", \"copaparaguay\", \"eliminatorias\",\"espana\",\"italia\",\"libertadores\",\"paraguay\",\"premierleague\",\"recopa\",\"sudamericana\"]\n",
    "x='-1111'\n",
    "while int(x) < 0  or int(x) > 10:\n",
    "    print(\"Seleccionar torneo:\")\n",
    "    for i in range(len(torneos)):\n",
    "        print(str(i) + \"- \" + torneos[i])\n",
    "    x = input()\n",
    "torneo = torneovec[int(x)]"
   ]
  },
  {
   "cell_type": "code",
   "execution_count": 3,
   "metadata": {},
   "outputs": [
    {
     "name": "stdout",
     "output_type": "stream",
     "text": [
      "<_io.TextIOWrapper name='datossudamericana.csv' mode='w' encoding='cp1252'>\n"
     ]
    }
   ],
   "source": [
    "titulocsv = f'datos{torneo}.csv'\n",
    "f = open(titulocsv,'w')\n",
    "print(f)"
   ]
  },
  {
   "cell_type": "code",
   "execution_count": 4,
   "metadata": {},
   "outputs": [],
   "source": [
    "fechadesde2=date(1999,2,1)\n",
    "fechahasta2=fechadesde2\n",
    "\n",
    "url = 'https://editorialdenegocios.com/datafactory/xml/es/'+ torneo +'/deportes.futbol.'+ torneo +'.fixture.xml'\n",
    "web = requests.get(url)\n",
    "root = ET.fromstring(web.text)"
   ]
  },
  {
   "cell_type": "code",
   "execution_count": 6,
   "metadata": {},
   "outputs": [
    {
     "ename": "AttributeError",
     "evalue": "'NoneType' object has no attribute 'get'",
     "output_type": "error",
     "traceback": [
      "\u001b[1;31m---------------------------------------------------------------------------\u001b[0m",
      "\u001b[1;31mAttributeError\u001b[0m                            Traceback (most recent call last)",
      "\u001b[1;32m<ipython-input-6-93066b877d45>\u001b[0m in \u001b[0;36m<module>\u001b[1;34m\u001b[0m\n\u001b[0;32m      9\u001b[0m         \u001b[0mf\u001b[0m\u001b[1;33m.\u001b[0m\u001b[0mwrite\u001b[0m\u001b[1;33m(\u001b[0m\u001b[1;34m\"\\n\"\u001b[0m \u001b[1;33m+\u001b[0m \u001b[0ma\u001b[0m\u001b[1;33m.\u001b[0m\u001b[0mget\u001b[0m\u001b[1;33m(\u001b[0m\u001b[1;34m'nombre'\u001b[0m\u001b[1;33m)\u001b[0m \u001b[1;33m+\u001b[0m \u001b[1;34m\"\\n\"\u001b[0m\u001b[1;33m)\u001b[0m\u001b[1;33m\u001b[0m\u001b[1;33m\u001b[0m\u001b[0m\n\u001b[0;32m     10\u001b[0m         \u001b[1;32mfor\u001b[0m \u001b[0mj\u001b[0m \u001b[1;32min\u001b[0m \u001b[0ma\u001b[0m\u001b[1;33m:\u001b[0m\u001b[1;33m\u001b[0m\u001b[1;33m\u001b[0m\u001b[0m\n\u001b[1;32m---> 11\u001b[1;33m             \u001b[1;32mif\u001b[0m\u001b[1;33m(\u001b[0m\u001b[0mj\u001b[0m\u001b[1;33m.\u001b[0m\u001b[0mfind\u001b[0m\u001b[1;33m(\u001b[0m\u001b[1;34m'estado'\u001b[0m\u001b[1;33m)\u001b[0m\u001b[1;33m.\u001b[0m\u001b[0mget\u001b[0m\u001b[1;33m(\u001b[0m\u001b[1;34m'id'\u001b[0m\u001b[1;33m)\u001b[0m \u001b[1;33m!=\u001b[0m \u001b[1;34m'2'\u001b[0m\u001b[1;33m)\u001b[0m\u001b[1;33m:\u001b[0m\u001b[1;33m\u001b[0m\u001b[1;33m\u001b[0m\u001b[0m\n\u001b[0m\u001b[0;32m     12\u001b[0m                 \u001b[1;32mif\u001b[0m\u001b[1;33m(\u001b[0m\u001b[0mj\u001b[0m\u001b[1;33m.\u001b[0m\u001b[0mfind\u001b[0m\u001b[1;33m(\u001b[0m\u001b[1;34m'estado'\u001b[0m\u001b[1;33m)\u001b[0m\u001b[1;33m.\u001b[0m\u001b[0mget\u001b[0m\u001b[1;33m(\u001b[0m\u001b[1;34m'id'\u001b[0m\u001b[1;33m)\u001b[0m \u001b[1;33m==\u001b[0m \u001b[1;34m'4'\u001b[0m\u001b[1;33m)\u001b[0m\u001b[1;33m:\u001b[0m\u001b[1;33m\u001b[0m\u001b[1;33m\u001b[0m\u001b[0m\n\u001b[0;32m     13\u001b[0m                     \u001b[0mmensaje\u001b[0m \u001b[1;33m=\u001b[0m \u001b[1;34m'Postergado'\u001b[0m\u001b[1;33m\u001b[0m\u001b[1;33m\u001b[0m\u001b[0m\n",
      "\u001b[1;31mAttributeError\u001b[0m: 'NoneType' object has no attribute 'get'"
     ]
    }
   ],
   "source": [
    "for i in root.findall(\"fecha\"):\n",
    "    fechadesde=i.get('fechadesde')\n",
    "    fechahasta=i.get('fechahasta')\n",
    "    fechadesde=date(int(fechadesde[0:4]),int(fechadesde[4:6]),int(fechadesde[6:8]))\n",
    "    fechahasta=date(int(fechahasta[0:4]),int(fechahasta[4:6]),int(fechahasta[6:8]))\n",
    "    \n",
    "    hoy = date.today()\n",
    "    if(fechahasta2<=hoy and hoy<=fechadesde):\n",
    "        f.write(\"\\n\" + a.get('nombre') + \"\\n\")\n",
    "        for j in a:\n",
    "            if(j.find('estado').get('id') != '2'):\n",
    "                if(j.find('estado').get('id') == '4'):\n",
    "                    mensaje = 'Postergado'\n",
    "                if(j.find('estado').get('id') == '0'):\n",
    "                    mensaje = 'A jugar'\n",
    "                f.write(j.find('local').text + ';'+ mensaje +\";\"+j.find('visitante').text + '\\n')\n",
    "            else:\n",
    "                f.write(j.find('local').text + ';'+ str(j.find('goleslocal').text) +  \" a \"+ str(j.find('golesvisitante').text)+\";\"+j.find('visitante').text + '\\n')\n",
    "            \n",
    "        f.write(\"\\n\" + i.get('nombre') + \"\\n\")    \n",
    "        for j in i:\n",
    "            f.write(j.find('local').text + ';vs;' + j.find('visitante').text + '\\n')  \n",
    "    fechadesde2=fechadesde\n",
    "    fechahasta2=fechahasta\n",
    "    a = i  "
   ]
  },
  {
   "cell_type": "code",
   "execution_count": 81,
   "metadata": {},
   "outputs": [
    {
     "name": "stdout",
     "output_type": "stream",
     "text": [
      "Octavos de Final\n",
      "Fénix 1 - 4 Independiente\n",
      "Independiente 1 - 0 Fénix\n",
      "Octavos de Final\n",
      "Bolívar 2 - 1 Lanús\n",
      "Lanús 6 - 2 Bolívar\n",
      "Octavos de Final\n",
      "River Plate 1 - 2 U. Católica\n",
      "U. Católica 0 - 1 River Plate\n",
      "Octavos de Final\n",
      "Defensa y Justicia 1 - 1 Vasco da Gama\n",
      "Vasco da Gama 0 - 1 Defensa y Justicia\n",
      "Octavos de Final\n",
      "Junior 2 - 1 U. La Calera\n",
      "U. La Calera 2 - 1 Junior\n",
      "Octavos de Final\n",
      "Coquimbo Unido 0 - 0 Sport Huancayo\n",
      "Sport Huancayo 0 - 2 Coquimbo Unido\n",
      "Cuartos de Final\n",
      "2\n",
      "Lanús - Independiente - ida - fecha:10/12/2020 hora:19:15:00\n",
      "0\n",
      "Independiente - Lanús - vuelta - fecha:17/12/2020 hora:19:15:00\n",
      "Cuartos de Final\n",
      "2\n",
      "Vélez - U. Católica - ida - fecha:08/12/2020 hora:21:30:00\n",
      "0\n",
      "U. Católica - Vélez - vuelta - fecha:15/12/2020 hora:21:30:00\n",
      "Cuartos de Final\n",
      "2\n",
      "Bahia - Defensa y Justicia - ida - fecha:09/12/2020 hora:19:15:00\n",
      "0\n",
      "Defensa y Justicia - Bahia - vuelta - fecha:16/12/2020 hora:19:15:00\n",
      "Cuartos de Final\n",
      "2\n",
      "Junior - Coquimbo Unido - ida - fecha:09/12/2020 hora:21:30:00\n",
      "0\n",
      "Coquimbo Unido - Junior - vuelta - fecha:16/12/2020 hora:21:30:00\n"
     ]
    }
   ],
   "source": [
    "for i in root.findall(\"fecha\"):\n",
    "    if(i.get('estado')=='ultima'):\n",
    "        print(i.get('nombrenivel'))\n",
    "        for j in i:\n",
    "            if(j.find('local')!= None):\n",
    "                print(f'{j.find(\"local\").text} {j.find(\"goleslocal\").text} - {j.find(\"golesvisitante\").text} {j.find(\"visitante\").text}') \n",
    "    if(i.get('estado')=='actual'):\n",
    "        print(i.get('nombrenivel'))\n",
    "        for j in i:\n",
    "            \n",
    "            if(j.find('local')!= None):\n",
    "                print(j.find('estado').attrib['id'])\n",
    "                print(f'{j.find(\"local\").text} - {j.find(\"visitante\").text} - {j.get(\"tipo\")} - fecha:{j.get(\"fecha\")[6:8]}/{j.get(\"fecha\")[4:6]}/{j.get(\"fecha\")[0:4]} hora:{j.get(\"hora\")}')"
   ]
  },
  {
   "cell_type": "code",
   "execution_count": 76,
   "metadata": {},
   "outputs": [],
   "source": [
    "f.close()"
   ]
  },
  {
   "cell_type": "code",
   "execution_count": null,
   "metadata": {},
   "outputs": [],
   "source": []
  }
 ],
 "metadata": {
  "kernelspec": {
   "display_name": "Python 3",
   "language": "python",
   "name": "python3"
  },
  "language_info": {
   "codemirror_mode": {
    "name": "ipython",
    "version": 3
   },
   "file_extension": ".py",
   "mimetype": "text/x-python",
   "name": "python",
   "nbconvert_exporter": "python",
   "pygments_lexer": "ipython3",
   "version": "3.8.3"
  }
 },
 "nbformat": 4,
 "nbformat_minor": 4
}
